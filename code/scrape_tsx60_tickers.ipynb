{
 "cells": [
  {
   "cell_type": "code",
   "execution_count": null,
   "id": "99c485ff",
   "metadata": {
    "vscode": {
     "languageId": "plaintext"
    }
   },
   "outputs": [],
   "source": [
    "from selenium import webdriver\n",
    "from selenium.webdriver.chrome.service import Service\n",
    "from webdriver_manager.chrome import ChromeDriverManager\n",
    "from bs4 import BeautifulSoup\n",
    "import time\n",
    "\n",
    "# Set up ChromeDriver with Selenium\n",
    "driver = webdriver.Chrome(service=Service(ChromeDriverManager().install()))\n",
    "\n",
    "# Go to the TSX 60 page\n",
    "url = \"https://www.theglobeandmail.com/investing/markets/indices/TXSX/components/\"\n",
    "driver.get(url)\n",
    "\n",
    "# Wait for dynamic content to load\n",
    "time.sleep(5)  # You can improve this with WebDriverWait\n",
    "\n",
    "# Get the page source after JavaScript runs\n",
    "html = driver.page_source\n",
    "soup = BeautifulSoup(html, 'html.parser')\n",
    "\n",
    "driver.quit()"
   ]
  }
 ],
 "metadata": {
  "language_info": {
   "name": "python"
  }
 },
 "nbformat": 4,
 "nbformat_minor": 5
}
